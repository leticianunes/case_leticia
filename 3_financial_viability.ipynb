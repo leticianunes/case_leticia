{
  "nbformat": 4,
  "nbformat_minor": 0,
  "metadata": {
    "colab": {
      "provenance": []
    },
    "kernelspec": {
      "name": "python3",
      "display_name": "Python 3"
    },
    "language_info": {
      "name": "python"
    }
  },
  "cells": [
    {
      "cell_type": "markdown",
      "source": [
        "### Viabilidade Financeira"
      ],
      "metadata": {
        "id": "gdqmbxZJIx1r"
      }
    },
    {
      "cell_type": "code",
      "execution_count": 1,
      "metadata": {
        "colab": {
          "base_uri": "https://localhost:8080/"
        },
        "id": "Md5d1-fpIddl",
        "outputId": "0893162a-7c17-43c2-9913-fe702c59ec23"
      },
      "outputs": [
        {
          "output_type": "stream",
          "name": "stdout",
          "text": [
            "                                         customer_id    grupo  num_pedidos  \\\n",
            "0  755e1fa18f25caec5edffb188b13fd844b2af8cf5adedc...   target           19   \n",
            "1  b821aa8372b8e5b82cdc283742757df8c45eecdd72adf4...  control            6   \n",
            "2  d425d6ee4c9d4e211b71da8fc60bf6c5336b2ea9af9cc0...  control           31   \n",
            "3  6a7089eea0a5dc294fbccd4fa24d0d84a90c1cc12e829c...   target           10   \n",
            "4  dad6b7e222bab31c0332b0ccd9fa5dbd147008facd268f...  control            1   \n",
            "\n",
            "   gasto_total  cliente_ativo  ticket_medio  fez_pedido  \n",
            "0       229.00           True     12.052632        True  \n",
            "1       287.88           True     47.980000        True  \n",
            "2      2004.59           True     64.664194        True  \n",
            "3       445.43           True     44.543000        True  \n",
            "4        23.00           True     23.000000        True  \n",
            "grupo\n",
            "target     445925\n",
            "control    360542\n",
            "Name: count, dtype: int64\n"
          ]
        }
      ],
      "source": [
        "import pandas as pd\n",
        "import matplotlib.pyplot as plt\n",
        "\n",
        "# Base dados\n",
        "df_base = pd.read_csv('/content/drive/MyDrive/Case Ifood/df_base_tratada.csv')\n",
        "\n",
        "print(df_base.head())\n",
        "print(df_base['grupo'].value_counts())"
      ]
    },
    {
      "cell_type": "code",
      "source": [
        "# Premissas\n",
        "valor_cupom = 10\n",
        "\n",
        "# Separar os grupos\n",
        "df_target = df_base[df_base['grupo'] == 'target']\n",
        "df_control = df_base[df_base['grupo'] == 'control']"
      ],
      "metadata": {
        "id": "bMwJ_BUWJAu6"
      },
      "execution_count": 2,
      "outputs": []
    },
    {
      "cell_type": "markdown",
      "source": [
        "###### Receita Incremental"
      ],
      "metadata": {
        "id": "-ozub6woJDn2"
      }
    },
    {
      "cell_type": "code",
      "source": [
        "# Receita incremental por usuário = gasto médio target - gasto médio control\n",
        "gasto_medio_target = df_target['gasto_total'].mean()\n",
        "gasto_medio_control = df_control['gasto_total'].mean()\n",
        "\n",
        "delta_gasto_medio = gasto_medio_target - gasto_medio_control\n",
        "num_usuarios_target = len(df_target)\n",
        "\n",
        "receita_incremental = delta_gasto_medio * num_usuarios_target\n",
        "\n",
        "print(f\"Receita incremental por usuário: R$ {delta_gasto_medio:.2f}\")\n",
        "print(f\"Receita incremental total: R$ {receita_incremental:,.2f}\")\n"
      ],
      "metadata": {
        "colab": {
          "base_uri": "https://localhost:8080/"
        },
        "id": "WqQGkLwKJTCr",
        "outputId": "40cd9705-f7ba-4464-947f-2abe5bb180d0"
      },
      "execution_count": 3,
      "outputs": [
        {
          "output_type": "stream",
          "name": "stdout",
          "text": [
            "Receita incremental por usuário: R$ 26.08\n",
            "Receita incremental total: R$ 11,630,928.80\n"
          ]
        }
      ]
    },
    {
      "cell_type": "markdown",
      "source": [
        "###### Custo da Campanha"
      ],
      "metadata": {
        "id": "s8ZCRpLXJDqQ"
      }
    },
    {
      "cell_type": "code",
      "source": [
        "valor_cupom = 10\n",
        "num_usuarios_target = df_target['customer_id'].nunique()\n",
        "custo_total_campanha = num_usuarios_target * valor_cupom  # 1 cupom por usuário\n",
        "\n",
        "print(f\"Usuários no grupo target: {num_usuarios_target:,}\")\n",
        "print(f\"Custo total estimado da campanha: R$ {custo_total_campanha:,.2f}\")\n"
      ],
      "metadata": {
        "colab": {
          "base_uri": "https://localhost:8080/"
        },
        "id": "DsbbmdxqJK_U",
        "outputId": "f16a0d6c-406c-4466-ed95-aa09bf33c268"
      },
      "execution_count": 4,
      "outputs": [
        {
          "output_type": "stream",
          "name": "stdout",
          "text": [
            "Usuários no grupo target: 445,924\n",
            "Custo total estimado da campanha: R$ 4,459,240.00\n"
          ]
        }
      ]
    },
    {
      "cell_type": "markdown",
      "source": [
        "###### ROI da campanha"
      ],
      "metadata": {
        "id": "7u_R8M8xJX90"
      }
    },
    {
      "cell_type": "code",
      "source": [
        "# ROI = (lucro liquido / custo da campanha)\n",
        "lucro_liquido = receita_incremental - custo_total_campanha\n",
        "roi = lucro_liquido / custo_total_campanha\n",
        "\n",
        "print(f\"Lucro líquido estimado: R$ {lucro_liquido:,.2f}\")\n",
        "print(f\"ROI da campanha: {roi:.2%}\")"
      ],
      "metadata": {
        "colab": {
          "base_uri": "https://localhost:8080/"
        },
        "id": "9iKd5uJ6JbAg",
        "outputId": "ffb9fb04-7dad-4749-8234-3e7bd99516f6"
      },
      "execution_count": 5,
      "outputs": [
        {
          "output_type": "stream",
          "name": "stdout",
          "text": [
            "Lucro líquido estimado: R$ 7,171,688.80\n",
            "ROI da campanha: 160.83%\n"
          ]
        }
      ]
    },
    {
      "cell_type": "markdown",
      "source": [
        "###### Custo vs. receita incremental"
      ],
      "metadata": {
        "id": "vx4RmKWfJe4p"
      }
    },
    {
      "cell_type": "code",
      "source": [
        "metrics = {\n",
        "    'Custo da campanha': custo_total_campanha,\n",
        "    'Receita incremental': receita_incremental\n",
        "}\n",
        "plt.figure(figsize=(6,4))\n",
        "plt.bar(metrics.keys(), metrics.values())\n",
        "plt.ylabel('R$')\n",
        "plt.title('Custo vs. Receita Incremental')\n",
        "plt.show()"
      ],
      "metadata": {
        "colab": {
          "base_uri": "https://localhost:8080/",
          "height": 391
        },
        "id": "1UmD0T60JhfY",
        "outputId": "ca69eea9-d9ce-4a3f-9a49-64f54bc5c1d0"
      },
      "execution_count": 6,
      "outputs": [
        {
          "output_type": "display_data",
          "data": {
            "text/plain": [
              "<Figure size 600x400 with 1 Axes>"
            ],
            "image/png": "[encoded data removed]"
          },
          "metadata": {}
        }
      ]
    },
    {
      "cell_type": "markdown",
      "source": [
        "Com base na premissa de que o cupom custa R$10 por pedido, estimamos que a campanha teve um custo de 4,459,240.00 reais.\n",
        "\n",
        "Em contrapartida, os usuários do grupo que recebeu o cupom gastaram, em média, 26,08 reais a mais, o que gerou uma receita incremental total de 11.630.928,80 reais.\n",
        "\n",
        "O ROI estimado da campanha foi de 160.83%, indicando que para cada 1 real investido, retornaram 2,61 em receita adicional.\n"
      ],
      "metadata": {
        "id": "icLa88CPJkaT"
      }
    }
  ]
}