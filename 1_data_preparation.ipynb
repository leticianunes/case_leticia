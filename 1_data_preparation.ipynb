{
  "nbformat": 4,
  "nbformat_minor": 0,
  "metadata": {
    "colab": {
      "provenance": []
    },
    "kernelspec": {
      "name": "python3",
      "display_name": "Python 3"
    },
    "language_info": {
      "name": "python"
    }
  },
  "cells": [
    {
      "cell_type": "code",
      "source": [
        "from google.colab import drive\n",
        "drive.mount('/content/drive')"
      ],
      "metadata": {
        "colab": {
          "base_uri": "https://localhost:8080/"
        },
        "id": "tERWVU7OElnv",
        "outputId": "dfc51f70-6c1b-495d-e011-27ef5bf68cc9"
      },
      "execution_count": 1,
      "outputs": [
        {
          "output_type": "stream",
          "name": "stdout",
          "text": [
            "Mounted at /content/drive\n"
          ]
        }
      ]
    },
    {
      "cell_type": "code",
      "execution_count": 2,
      "metadata": {
        "colab": {
          "base_uri": "https://localhost:8080/"
        },
        "id": "WjOfWq9RgTs4",
        "outputId": "20acdca4-3d5e-46ee-c3dc-016f7bc662ed"
      },
      "outputs": [
        {
          "output_type": "stream",
          "name": "stdout",
          "text": [
            "df_consumers shape: (806156, 7)\n"
          ]
        }
      ],
      "source": [
        "import pandas as pd\n",
        "import numpy as np\n",
        "import json\n",
        "# A/B test\n",
        "import tarfile\n",
        "import requests\n",
        "from io import BytesIO\n",
        "\n",
        "import pandas as pd\n",
        "import requests\n",
        "import tarfile\n",
        "from io import BytesIO\n",
        "\n",
        "# Consumidores\n",
        "url_consumers = \"https://data-architect-test-source.s3-sa-east-1.amazonaws.com/consumer.csv.gz\"\n",
        "df_consumers = pd.read_csv(url_consumers)\n",
        "print(f\"df_consumers shape: {df_consumers.shape}\")\n"
      ]
    },
    {
      "cell_type": "code",
      "source": [
        "# Restaurantes\n",
        "url_restaurants = \"https://data-architect-test-source.s3-sa-east-1.amazonaws.com/restaurant.csv.gz\"\n",
        "df_restaurants = pd.read_csv(url_restaurants)\n",
        "print(f\"df_restaurants shape: {df_restaurants.shape}\")\n"
      ],
      "metadata": {
        "colab": {
          "base_uri": "https://localhost:8080/"
        },
        "id": "_zb8YDtNm48_",
        "outputId": "e04d4729-b098-461e-ba7c-5e85fa497c85"
      },
      "execution_count": 3,
      "outputs": [
        {
          "output_type": "stream",
          "name": "stdout",
          "text": [
            "df_restaurants shape: (7292, 12)\n"
          ]
        }
      ]
    },
    {
      "cell_type": "code",
      "source": [
        "# Teste A/B\n",
        "url_ab = \"https://data-architect-test-source.s3-sa-east-1.amazonaws.com/ab_test_ref.tar.gz\"\n",
        "response = requests.get(url_ab)\n",
        "tar = tarfile.open(fileobj=BytesIO(response.content))\n",
        "tar.extractall()\n",
        "tar.close()\n",
        "df_ab = pd.read_csv(\"ab_test_ref.csv\")\n",
        "print(f\"Dados A/B carregados: {df_ab.shape}\")"
      ],
      "metadata": {
        "colab": {
          "base_uri": "https://localhost:8080/"
        },
        "id": "Wa_vGVN7m41c",
        "outputId": "2876647e-b236-45d5-8bc1-d380b7941be3"
      },
      "execution_count": 4,
      "outputs": [
        {
          "output_type": "stream",
          "name": "stdout",
          "text": [
            "Dados A/B carregados: (806467, 2)\n"
          ]
        }
      ]
    },
    {
      "cell_type": "code",
      "source": [
        "# Pedidos (em chunk porque estava excedendo a memória RAM)\n",
        "url_orders = \"https://data-architect-test-source.s3-sa-east-1.amazonaws.com/order.json.gz\"\n",
        "chunksize = 100000\n",
        "\n",
        "lista_agg = []\n",
        "\n",
        "for chunk in pd.read_json(url_orders, lines=True, chunksize=chunksize):\n",
        "    cols = ['customer_id', 'order_id', 'order_total_amount', 'order_created_at']\n",
        "    df = chunk[cols]\n",
        "    agg = df.groupby('customer_id').agg(\n",
        "        num_pedidos=('order_id', 'count'),\n",
        "        gasto_total=('order_total_amount', 'sum')\n",
        "    ).reset_index()\n",
        "    lista_agg.append(agg)\n",
        "\n",
        "df_orders_agg = pd.concat(lista_agg)\n",
        "df_orders_agg = df_orders_agg.groupby('customer_id').agg(\n",
        "    num_pedidos=('num_pedidos', 'sum'),\n",
        "    gasto_total=('gasto_total', 'sum')\n",
        ").reset_index()\n",
        "print(f\"df_orders_agg shape: {df_orders_agg.shape}\")\n",
        "\n",
        "# 7min"
      ],
      "metadata": {
        "colab": {
          "base_uri": "https://localhost:8080/"
        },
        "id": "NFMmOl9Fm4om",
        "outputId": "06c799b7-87d7-4735-8e83-191320e4cc2c"
      },
      "execution_count": 5,
      "outputs": [
        {
          "output_type": "stream",
          "name": "stdout",
          "text": [
            "df_orders_agg shape: (806466, 3)\n"
          ]
        }
      ]
    },
    {
      "cell_type": "code",
      "source": [
        "df_ab = df_ab.rename(columns={'is_target': 'grupo'})\n",
        "\n",
        "# Join pedidos + teste a/b (obs: existe 1 cliente que não fez pedido no período, mas esta na tabela a/b)\n",
        "df_base = df_ab.merge(df_orders_agg, on='customer_id', how='left')\n",
        "\n",
        "# Join com consumidores\n",
        "df_base = df_base.merge(df_consumers[['customer_id', 'active']], on='customer_id', how='left')\n",
        "\n",
        "# Tratar valores nulos na base final (clientes sem pedido e clientes que não estão na base de consumidores)\n",
        "df_base['num_pedidos'] = df_base['num_pedidos'].fillna(0).astype(int)\n",
        "df_base['gasto_total'] = df_base['gasto_total'].fillna(0)\n",
        "df_base['active'] = df_base['active'].fillna(False)\n",
        "\n",
        "df_base = df_base.rename(columns={'active': 'cliente_ativo'})\n",
        "\n",
        "# Calculo do ticket médio por cliente (obs: temos o ticket médio por restaurante e por isso é necessário calcular por usuário)\n",
        "df_base['ticket_medio'] = df_base.apply(\n",
        "    lambda row: row['gasto_total'] / row['num_pedidos'] if row['num_pedidos'] > 0 else np.nan,\n",
        "    axis=1\n",
        ")\n",
        "\n",
        "# Identificando se o cliente fez pedido no período\n",
        "df_base['fez_pedido'] = df_base['num_pedidos'] > 0\n",
        "\n",
        "df_base.head()\n"
      ],
      "metadata": {
        "colab": {
          "base_uri": "https://localhost:8080/",
          "height": 262
        },
        "id": "8aBf8n9sqb_B",
        "outputId": "d15c50fd-bf35-4f45-93d2-2360ee281c40"
      },
      "execution_count": 6,
      "outputs": [
        {
          "output_type": "stream",
          "name": "stderr",
          "text": [
            "/tmp/ipython-input-6-4041337541.py:12: FutureWarning: Downcasting object dtype arrays on .fillna, .ffill, .bfill is deprecated and will change in a future version. Call result.infer_objects(copy=False) instead. To opt-in to the future behavior, set `pd.set_option('future.no_silent_downcasting', True)`\n",
            "  df_base['active'] = df_base['active'].fillna(False)\n"
          ]
        },
        {
          "output_type": "execute_result",
          "data": {
            "text/plain": [
              "                                         customer_id    grupo  num_pedidos  \\\n",
              "0  755e1fa18f25caec5edffb188b13fd844b2af8cf5adedc...   target           19   \n",
              "1  b821aa8372b8e5b82cdc283742757df8c45eecdd72adf4...  control            6   \n",
              "2  d425d6ee4c9d4e211b71da8fc60bf6c5336b2ea9af9cc0...  control           31   \n",
              "3  6a7089eea0a5dc294fbccd4fa24d0d84a90c1cc12e829c...   target           10   \n",
              "4  dad6b7e222bab31c0332b0ccd9fa5dbd147008facd268f...  control            1   \n",
              "\n",
              "   gasto_total  cliente_ativo  ticket_medio  fez_pedido  \n",
              "0       229.00           True     12.052632        True  \n",
              "1       287.88           True     47.980000        True  \n",
              "2      2004.59           True     64.664194        True  \n",
              "3       445.43           True     44.543000        True  \n",
              "4        23.00           True     23.000000        True  "
            ],
            "text/html": [
              "\n",
              "  <div id=\"df-89e5bcf2-f69b-450c-bc41-2a6787d75af6\" class=\"colab-df-container\">\n",
              "    <div>\n",
              "<style scoped>\n",
              "    .dataframe tbody tr th:only-of-type {\n",
              "        vertical-align: middle;\n",
              "    }\n",
              "\n",
              "    .dataframe tbody tr th {\n",
              "        vertical-align: top;\n",
              "    }\n",
              "\n",
              "    .dataframe thead th {\n",
              "        text-align: right;\n",
              "    }\n",
              "</style>\n",
              "<table border=\"1\" class=\"dataframe\">\n",
              "  <thead>\n",
              "    <tr style=\"text-align: right;\">\n",
              "      <th></th>\n",
              "      <th>customer_id</th>\n",
              "      <th>grupo</th>\n",
              "      <th>num_pedidos</th>\n",
              "      <th>gasto_total</th>\n",
              "      <th>cliente_ativo</th>\n",
              "      <th>ticket_medio</th>\n",
              "      <th>fez_pedido</th>\n",
              "    </tr>\n",
              "  </thead>\n",
              "  <tbody>\n",
              "    <tr>\n",
              "      <th>0</th>\n",
              "      <td>755e1fa18f25caec5edffb188b13fd844b2af8cf5adedc...</td>\n",
              "      <td>target</td>\n",
              "      <td>19</td>\n",
              "      <td>229.00</td>\n",
              "      <td>True</td>\n",
              "      <td>12.052632</td>\n",
              "      <td>True</td>\n",
              "    </tr>\n",
              "    <tr>\n",
              "      <th>1</th>\n",
              "      <td>b821aa8372b8e5b82cdc283742757df8c45eecdd72adf4...</td>\n",
              "      <td>control</td>\n",
              "      <td>6</td>\n",
              "      <td>287.88</td>\n",
              "      <td>True</td>\n",
              "      <td>47.980000</td>\n",
              "      <td>True</td>\n",
              "    </tr>\n",
              "    <tr>\n",
              "      <th>2</th>\n",
              "      <td>d425d6ee4c9d4e211b71da8fc60bf6c5336b2ea9af9cc0...</td>\n",
              "      <td>control</td>\n",
              "      <td>31</td>\n",
              "      <td>2004.59</td>\n",
              "      <td>True</td>\n",
              "      <td>64.664194</td>\n",
              "      <td>True</td>\n",
              "    </tr>\n",
              "    <tr>\n",
              "      <th>3</th>\n",
              "      <td>6a7089eea0a5dc294fbccd4fa24d0d84a90c1cc12e829c...</td>\n",
              "      <td>target</td>\n",
              "      <td>10</td>\n",
              "      <td>445.43</td>\n",
              "      <td>True</td>\n",
              "      <td>44.543000</td>\n",
              "      <td>True</td>\n",
              "    </tr>\n",
              "    <tr>\n",
              "      <th>4</th>\n",
              "      <td>dad6b7e222bab31c0332b0ccd9fa5dbd147008facd268f...</td>\n",
              "      <td>control</td>\n",
              "      <td>1</td>\n",
              "      <td>23.00</td>\n",
              "      <td>True</td>\n",
              "      <td>23.000000</td>\n",
              "      <td>True</td>\n",
              "    </tr>\n",
              "  </tbody>\n",
              "</table>\n",
              "</div>\n",
              "    <div class=\"colab-df-buttons\">\n",
              "\n",
              "  <div class=\"colab-df-container\">\n",
              "    <button class=\"colab-df-convert\" onclick=\"convertToInteractive('df-89e5bcf2-f69b-450c-bc41-2a6787d75af6')\"\n",
              "            title=\"Convert this dataframe to an interactive table.\"\n",
              "            style=\"display:none;\">\n",
              "\n",
              "  <svg xmlns=\"http://www.w3.org/2000/svg\" height=\"24px\" viewBox=\"0 -960 960 960\">\n",
              "    <path d=\"M120-120v-720h720v720H120Zm60-500h600v-160H180v160Zm220 220h160v-160H400v160Zm0 220h160v-160H400v160ZM180-400h160v-160H180v160Zm440 0h160v-160H620v160ZM180-180h160v-160H180v160Zm440 0h160v-160H620v160Z\"/>\n",
              "  </svg>\n",
              "    </button>\n",
              "\n",
              "  <style>\n",
              "    .colab-df-container {\n",
              "      display:flex;\n",
              "      gap: 12px;\n",
              "    }\n",
              "\n",
              "    .colab-df-convert {\n",
              "      background-color: #E8F0FE;\n",
              "      border: none;\n",
              "      border-radius: 50%;\n",
              "      cursor: pointer;\n",
              "      display: none;\n",
              "      fill: #1967D2;\n",
              "      height: 32px;\n",
              "      padding: 0 0 0 0;\n",
              "      width: 32px;\n",
              "    }\n",
              "\n",
              "    .colab-df-convert:hover {\n",
              "      background-color: #E2EBFA;\n",
              "      box-shadow: 0px 1px 2px rgba(60, 64, 67, 0.3), 0px 1px 3px 1px rgba(60, 64, 67, 0.15);\n",
              "      fill: #174EA6;\n",
              "    }\n",
              "\n",
              "    .colab-df-buttons div {\n",
              "      margin-bottom: 4px;\n",
              "    }\n",
              "\n",
              "    [theme=dark] .colab-df-convert {\n",
              "      background-color: #3B4455;\n",
              "      fill: #D2E3FC;\n",
              "    }\n",
              "\n",
              "    [theme=dark] .colab-df-convert:hover {\n",
              "      background-color: #434B5C;\n",
              "      box-shadow: 0px 1px 3px 1px rgba(0, 0, 0, 0.15);\n",
              "      filter: drop-shadow(0px 1px 2px rgba(0, 0, 0, 0.3));\n",
              "      fill: #FFFFFF;\n",
              "    }\n",
              "  </style>\n",
              "\n",
              "    <script>\n",
              "      const buttonEl =\n",
              "        document.querySelector('#df-89e5bcf2-f69b-450c-bc41-2a6787d75af6 button.colab-df-convert');\n",
              "      buttonEl.style.display =\n",
              "        google.colab.kernel.accessAllowed ? 'block' : 'none';\n",
              "\n",
              "      async function convertToInteractive(key) {\n",
              "        const element = document.querySelector('#df-89e5bcf2-f69b-450c-bc41-2a6787d75af6');\n",
              "        const dataTable =\n",
              "          await google.colab.kernel.invokeFunction('convertToInteractive',\n",
              "                                                    [key], {});\n",
              "        if (!dataTable) return;\n",
              "\n",
              "        const docLinkHtml = 'Like what you see? Visit the ' +\n",
              "          '<a target=\"_blank\" href=https://colab.research.google.com/notebooks/data_table.ipynb>data table notebook</a>'\n",
              "          + ' to learn more about interactive tables.';\n",
              "        element.innerHTML = '';\n",
              "        dataTable['output_type'] = 'display_data';\n",
              "        await google.colab.output.renderOutput(dataTable, element);\n",
              "        const docLink = document.createElement('div');\n",
              "        docLink.innerHTML = docLinkHtml;\n",
              "        element.appendChild(docLink);\n",
              "      }\n",
              "    </script>\n",
              "  </div>\n",
              "\n",
              "\n",
              "    <div id=\"df-2afdfc53-4760-40bc-a3a9-840243fe8fa6\">\n",
              "      <button class=\"colab-df-quickchart\" onclick=\"quickchart('df-2afdfc53-4760-40bc-a3a9-840243fe8fa6')\"\n",
              "                title=\"Suggest charts\"\n",
              "                style=\"display:none;\">\n",
              "\n",
              "<svg xmlns=\"http://www.w3.org/2000/svg\" height=\"24px\"viewBox=\"0 0 24 24\"\n",
              "     width=\"24px\">\n",
              "    <g>\n",
              "        <path d=\"M19 3H5c-1.1 0-2 .9-2 2v14c0 1.1.9 2 2 2h14c1.1 0 2-.9 2-2V5c0-1.1-.9-2-2-2zM9 17H7v-7h2v7zm4 0h-2V7h2v10zm4 0h-2v-4h2v4z\"/>\n",
              "    </g>\n",
              "</svg>\n",
              "      </button>\n",
              "\n",
              "<style>\n",
              "  .colab-df-quickchart {\n",
              "      --bg-color: #E8F0FE;\n",
              "      --fill-color: #1967D2;\n",
              "      --hover-bg-color: #E2EBFA;\n",
              "      --hover-fill-color: #174EA6;\n",
              "      --disabled-fill-color: #AAA;\n",
              "      --disabled-bg-color: #DDD;\n",
              "  }\n",
              "\n",
              "  [theme=dark] .colab-df-quickchart {\n",
              "      --bg-color: #3B4455;\n",
              "      --fill-color: #D2E3FC;\n",
              "      --hover-bg-color: #434B5C;\n",
              "      --hover-fill-color: #FFFFFF;\n",
              "      --disabled-bg-color: #3B4455;\n",
              "      --disabled-fill-color: #666;\n",
              "  }\n",
              "\n",
              "  .colab-df-quickchart {\n",
              "    background-color: var(--bg-color);\n",
              "    border: none;\n",
              "    border-radius: 50%;\n",
              "    cursor: pointer;\n",
              "    display: none;\n",
              "    fill: var(--fill-color);\n",
              "    height: 32px;\n",
              "    padding: 0;\n",
              "    width: 32px;\n",
              "  }\n",
              "\n",
              "  .colab-df-quickchart:hover {\n",
              "    background-color: var(--hover-bg-color);\n",
              "    box-shadow: 0 1px 2px rgba(60, 64, 67, 0.3), 0 1px 3px 1px rgba(60, 64, 67, 0.15);\n",
              "    fill: var(--button-hover-fill-color);\n",
              "  }\n",
              "\n",
              "  .colab-df-quickchart-complete:disabled,\n",
              "  .colab-df-quickchart-complete:disabled:hover {\n",
              "    background-color: var(--disabled-bg-color);\n",
              "    fill: var(--disabled-fill-color);\n",
              "    box-shadow: none;\n",
              "  }\n",
              "\n",
              "  .colab-df-spinner {\n",
              "    border: 2px solid var(--fill-color);\n",
              "    border-color: transparent;\n",
              "    border-bottom-color: var(--fill-color);\n",
              "    animation:\n",
              "      spin 1s steps(1) infinite;\n",
              "  }\n",
              "\n",
              "  @keyframes spin {\n",
              "    0% {\n",
              "      border-color: transparent;\n",
              "      border-bottom-color: var(--fill-color);\n",
              "      border-left-color: var(--fill-color);\n",
              "    }\n",
              "    20% {\n",
              "      border-color: transparent;\n",
              "      border-left-color: var(--fill-color);\n",
              "      border-top-color: var(--fill-color);\n",
              "    }\n",
              "    30% {\n",
              "      border-color: transparent;\n",
              "      border-left-color: var(--fill-color);\n",
              "      border-top-color: var(--fill-color);\n",
              "      border-right-color: var(--fill-color);\n",
              "    }\n",
              "    40% {\n",
              "      border-color: transparent;\n",
              "      border-right-color: var(--fill-color);\n",
              "      border-top-color: var(--fill-color);\n",
              "    }\n",
              "    60% {\n",
              "      border-color: transparent;\n",
              "      border-right-color: var(--fill-color);\n",
              "    }\n",
              "    80% {\n",
              "      border-color: transparent;\n",
              "      border-right-color: var(--fill-color);\n",
              "      border-bottom-color: var(--fill-color);\n",
              "    }\n",
              "    90% {\n",
              "      border-color: transparent;\n",
              "      border-bottom-color: var(--fill-color);\n",
              "    }\n",
              "  }\n",
              "</style>\n",
              "\n",
              "      <script>\n",
              "        async function quickchart(key) {\n",
              "          const quickchartButtonEl =\n",
              "            document.querySelector('#' + key + ' button');\n",
              "          quickchartButtonEl.disabled = true;  // To prevent multiple clicks.\n",
              "          quickchartButtonEl.classList.add('colab-df-spinner');\n",
              "          try {\n",
              "            const charts = await google.colab.kernel.invokeFunction(\n",
              "                'suggestCharts', [key], {});\n",
              "          } catch (error) {\n",
              "            console.error('Error during call to suggestCharts:', error);\n",
              "          }\n",
              "          quickchartButtonEl.classList.remove('colab-df-spinner');\n",
              "          quickchartButtonEl.classList.add('colab-df-quickchart-complete');\n",
              "        }\n",
              "        (() => {\n",
              "          let quickchartButtonEl =\n",
              "            document.querySelector('#df-2afdfc53-4760-40bc-a3a9-840243fe8fa6 button');\n",
              "          quickchartButtonEl.style.display =\n",
              "            google.colab.kernel.accessAllowed ? 'block' : 'none';\n",
              "        })();\n",
              "      </script>\n",
              "    </div>\n",
              "\n",
              "    </div>\n",
              "  </div>\n"
            ],
            "application/vnd.google.colaboratory.intrinsic+json": {
              "type": "dataframe",
              "variable_name": "df_base"
            }
          },
          "metadata": {},
          "execution_count": 6
        }
      ]
    },
    {
      "cell_type": "code",
      "source": [
        "print(\"Total de usuários na base:\", len(df_base))\n",
        "print(\"\\nDistribuição por grupo:\")\n",
        "print(df_base['grupo'].value_counts())\n",
        "\n",
        "print(\"\\nTicket médio (média dos usuários com pedidos):\")\n",
        "print(df_base[df_base['fez_pedido']].groupby('grupo')['ticket_medio'].mean())\n"
      ],
      "metadata": {
        "colab": {
          "base_uri": "https://localhost:8080/"
        },
        "id": "MiTdxw_ltO7o",
        "outputId": "797514fb-5cf6-4804-cb39-26b307e11793"
      },
      "execution_count": 7,
      "outputs": [
        {
          "output_type": "stream",
          "name": "stdout",
          "text": [
            "Total de usuários na base: 806467\n",
            "\n",
            "Distribuição por grupo:\n",
            "grupo\n",
            "target     445925\n",
            "control    360542\n",
            "Name: count, dtype: int64\n",
            "\n",
            "Ticket médio (média dos usuários com pedidos):\n",
            "grupo\n",
            "control    48.011382\n",
            "target     47.833608\n",
            "Name: ticket_medio, dtype: float64\n"
          ]
        }
      ]
    },
    {
      "cell_type": "code",
      "source": [
        "df_base.to_csv('/content/drive/MyDrive/Case Ifood/df_base_tratada.csv', index=False)"
      ],
      "metadata": {
        "id": "nFPMVUW2v2lT"
      },
      "execution_count": null,
      "outputs": []
    }
  ]
}